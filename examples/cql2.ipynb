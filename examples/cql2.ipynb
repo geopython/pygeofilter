{
 "cells": [
  {
   "cell_type": "code",
   "execution_count": 1,
   "id": "fe8453fa",
   "metadata": {},
   "outputs": [],
   "source": [
    "from pygeofilter.parsers.cql2_json import parse\n",
    "from pygeofilter.backends.cql2_json import to_cql2\n",
    "import json\n",
    "import traceback\n",
    "from lark import lark, logger, v_args\n",
    "from pygeofilter.cql2 import BINARY_OP_PREDICATES_MAP\n"
   ]
  },
  {
   "cell_type": "code",
   "execution_count": 2,
   "id": "b960603d",
   "metadata": {},
   "outputs": [
    {
     "data": {
      "text/plain": [
       "And(lhs=And(lhs=And(lhs=Equal(lhs=ATTRIBUTE collection, rhs='landsat8_l1tp'), rhs=LessEqual(lhs=ATTRIBUTE gsd, rhs=30)), rhs=LessEqual(lhs=ATTRIBUTE eo:cloud_cover, rhs=10)), rhs=GreaterEqual(lhs=ATTRIBUTE datetime, rhs=datetime.datetime(2021, 4, 8, 4, 39, 23, tzinfo=<StaticTzInfo 'Z'>)))"
      ]
     },
     "execution_count": 2,
     "metadata": {},
     "output_type": "execute_result"
    }
   ],
   "source": [
    "from pygeofilter.parsers.cql2_text import parse as cql2_parse\n",
    "cql2_parse(\"collection = 'landsat8_l1tp'  AND gsd <= 30  AND eo:cloud_cover <= 10  AND datetime >= TIMESTAMP('2021-04-08T04:39:23Z')\")"
   ]
  },
  {
   "cell_type": "code",
   "execution_count": 3,
   "id": "c5f47281",
   "metadata": {},
   "outputs": [
    {
     "name": "stdout",
     "output_type": "stream",
     "text": [
      "Example 1\n",
      "*******parsed trees match***************\n",
      "*******reconstructed json matches*******\n",
      "____________________________________________________________\n",
      "Example 2\n",
      "*******parsed trees match***************\n",
      "*******reconstructed json matches*******\n",
      "____________________________________________________________\n",
      "Example 3\n",
      "*******parsed trees match***************\n",
      "*******reconstructed json matches*******\n",
      "____________________________________________________________\n",
      "Example 4\n",
      "*******parsed trees match***************\n",
      "*******reconstructed json matches*******\n",
      "____________________________________________________________\n",
      "Example 5\n",
      "*******parsed trees match***************\n",
      "*******reconstructed json matches*******\n",
      "____________________________________________________________\n",
      "Example 6\n",
      "*******parsed trees match***************\n",
      "*******reconstructed json matches*******\n",
      "____________________________________________________________\n",
      "Example 7\n",
      "*******parsed trees match***************\n",
      "*******reconstructed json matches*******\n",
      "____________________________________________________________\n",
      "Example 8\n",
      "*******parsed trees match***************\n",
      "*******reconstructed json matches*******\n",
      "____________________________________________________________\n",
      "Example 9\n",
      "*******parsed trees match***************\n",
      "*******reconstructed json matches*******\n",
      "____________________________________________________________\n",
      "Example 10\n",
      "*******parsed trees match***************\n",
      "*******reconstructed json matches*******\n",
      "____________________________________________________________\n",
      "Example 11\n",
      "*******parsed trees match***************\n",
      "*******reconstructed json matches*******\n",
      "____________________________________________________________\n",
      "Example 12\n",
      "*******parsed trees match***************\n",
      "*******reconstructed json matches*******\n",
      "____________________________________________________________\n"
     ]
    }
   ],
   "source": [
    "from pygeofilter.parsers.cql2_text import parse as text_parse\n",
    "from pygeofilter.parsers.cql2_json import parse as json_parse\n",
    "from pygeofilter.backends.cql2_json import to_cql2\n",
    "import orjson\n",
    "import json\n",
    "import pprint\n",
    "def pp(j):\n",
    "    print(orjson.dumps(j))\n",
    "with open('tests/parsers/cql2_json/fixtures.json') as f:\n",
    "    examples = json.load(f)\n",
    "\n",
    "for k, v in examples.items():\n",
    "    parsed_text = None\n",
    "    parsed_json = None\n",
    "    print (k)\n",
    "    t=v['text'].replace('filter=','')\n",
    "    j=v['json']\n",
    "    # print('\\t' + t)\n",
    "    # pp(orjson.loads(j))\n",
    "    # print('*****')\n",
    "    try:\n",
    "        parsed_text=text_parse(t)\n",
    "        parsed_json=json_parse(j)\n",
    "        if parsed_text == parsed_json:\n",
    "            print('*******parsed trees match***************')\n",
    "        else:\n",
    "            print(parsed_text)\n",
    "            print('-----')\n",
    "            print(parsed_json)\n",
    "        if parsed_json is None or parsed_text is None:\n",
    "            raise Exception\n",
    "        if to_cql2(parsed_text) == to_cql2(parsed_json):\n",
    "            print('*******reconstructed json matches*******')\n",
    "        else:\n",
    "            pp(to_cql2(parsed_text))\n",
    "            print('-----')\n",
    "            pp(to_cql2(parsed_json))\n",
    "    except Exception as e:\n",
    "        print(parsed_text)\n",
    "        print(parsed_json)\n",
    "        print(j)\n",
    "        traceback.print_exc(f\"Error: {e}\")\n",
    "        pass\n",
    "    print('____________________________________________________________')\n",
    "    "
   ]
  },
  {
   "cell_type": "code",
   "execution_count": null,
   "id": "ac0bb004",
   "metadata": {},
   "outputs": [],
   "source": []
  }
 ],
 "metadata": {
  "kernelspec": {
   "display_name": "pygeofilter",
   "language": "python",
   "name": "pygeofilter"
  },
  "language_info": {
   "codemirror_mode": {
    "name": "ipython",
    "version": 3
   },
   "file_extension": ".py",
   "mimetype": "text/x-python",
   "name": "python",
   "nbconvert_exporter": "python",
   "pygments_lexer": "ipython3",
   "version": "3.8.10"
  }
 },
 "nbformat": 4,
 "nbformat_minor": 5
}
